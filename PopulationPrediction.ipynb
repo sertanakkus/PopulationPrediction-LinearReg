{
 "cells": [
  {
   "cell_type": "code",
   "execution_count": 1,
   "id": "9f0a34d6-bceb-4067-bc54-42e4248977cb",
   "metadata": {},
   "outputs": [],
   "source": [
    "# needed libraries\n",
    "import numpy as np\n",
    "import pandas as pd\n",
    "import matplotlib.pyplot as plt\n",
    "import requests\n",
    "from bs4 import BeautifulSoup"
   ]
  },
  {
   "cell_type": "markdown",
   "id": "3c2bac6b-a1db-4a95-bc49-8edd73eec798",
   "metadata": {},
   "source": [
    "# Collect and Prepare Data"
   ]
  },
  {
   "cell_type": "code",
   "execution_count": 2,
   "id": "8a864dc5-be53-4f2e-bcdf-a700166712f9",
   "metadata": {},
   "outputs": [],
   "source": [
    "# getting data\n",
    "URL = \"https://www.nufusu.com/ulke/turkiye-nufusu\"\n",
    "page = requests.get(URL)\n",
    "\n",
    "soup = BeautifulSoup(page.content, \"html.parser\")\n",
    "\n",
    "table = soup.find(class_=\"pure-table\")\n",
    "rows = table.find_all('tr') \n",
    "\n",
    "\n",
    "# year list\n",
    "year_list = []\n",
    "for row in rows:\n",
    "    r = row.find_all('td')\n",
    "    if (len(r) != 0): year_list.append(r[1].text)\n",
    "\n",
    "year_list.sort()\n",
    "\n",
    "\n",
    "# population list\n",
    "population_list = []\n",
    "for row in rows:\n",
    "    r = row.find_all('td')\n",
    "    if (len(r) != 0): population_list.append(r[2].text)\n",
    "\n",
    "population_list.reverse()"
   ]
  },
  {
   "cell_type": "code",
   "execution_count": 3,
   "id": "9d1a8ada-a9de-4d09-8b2b-90ce6ff08392",
   "metadata": {},
   "outputs": [],
   "source": [
    "# list to numpy array\n",
    "years = np.array(year_list, dtype='int64')\n",
    "\n",
    "i = 0\n",
    "for p in population_list: \n",
    "    population_list[i] = p.replace('.', '')\n",
    "    i += 1\n",
    "\n",
    "populations = np.array(population_list, dtype='int64')"
   ]
  },
  {
   "cell_type": "markdown",
   "id": "81c979c9-56f0-4930-8971-3b9f56f7893f",
   "metadata": {},
   "source": [
    "# Plot of the Dataset"
   ]
  },
  {
   "cell_type": "code",
   "execution_count": 4,
   "id": "52c8eb58-ce0a-4915-b706-f4073b143cdc",
   "metadata": {},
   "outputs": [
    {
     "data": {
      "image/png": "[encoded data removed]",
      "text/plain": [
       "<Figure size 432x288 with 1 Axes>"
      ]
     },
     "metadata": {
      "needs_background": "light"
     },
     "output_type": "display_data"
    }
   ],
   "source": [
    "# scatter plot\n",
    "plt.scatter(years, populations)\n",
    "plt.xlabel('Year')\n",
    "plt.ylabel('Population')\n",
    "plt.title('Turkey population by year')\n",
    "plt.grid(True)\n",
    "plt.show()"
   ]
  },
  {
   "cell_type": "markdown",
   "id": "2cf8b52d-e8a5-4af3-aae0-dc7846a2fb7b",
   "metadata": {},
   "source": [
    "# Linear Model"
   ]
  },
  {
   "cell_type": "code",
   "execution_count": 5,
   "id": "ee440808-860d-42ee-8821-2c1b8fc1ad29",
   "metadata": {},
   "outputs": [],
   "source": [
    "from sklearn.linear_model import LinearRegression"
   ]
  },
  {
   "cell_type": "code",
   "execution_count": 6,
   "id": "5cddce08-30d8-4fed-8473-ccabe37df752",
   "metadata": {},
   "outputs": [],
   "source": [
    "#Create df\n",
    "y = pd.DataFrame(populations, columns=['population'])\n",
    "x = pd.DataFrame(years, columns=['year'])"
   ]
  },
  {
   "cell_type": "code",
   "execution_count": 7,
   "id": "ccf799ee-b7dc-4251-9876-33798133af33",
   "metadata": {},
   "outputs": [
    {
     "data": {
      "text/html": [
       "<div>\n",
       "<style scoped>\n",
       "    .dataframe tbody tr th:only-of-type {\n",
       "        vertical-align: middle;\n",
       "    }\n",
       "\n",
       "    .dataframe tbody tr th {\n",
       "        vertical-align: top;\n",
       "    }\n",
       "\n",
       "    .dataframe thead th {\n",
       "        text-align: right;\n",
       "    }\n",
       "</style>\n",
       "<table border=\"1\" class=\"dataframe\">\n",
       "  <thead>\n",
       "    <tr style=\"text-align: right;\">\n",
       "      <th></th>\n",
       "      <th>year</th>\n",
       "      <th>population</th>\n",
       "    </tr>\n",
       "  </thead>\n",
       "  <tbody>\n",
       "    <tr>\n",
       "      <th>0</th>\n",
       "      <td>1960</td>\n",
       "      <td>27553280</td>\n",
       "    </tr>\n",
       "    <tr>\n",
       "      <th>1</th>\n",
       "      <td>1961</td>\n",
       "      <td>28229291</td>\n",
       "    </tr>\n",
       "    <tr>\n",
       "      <th>2</th>\n",
       "      <td>1962</td>\n",
       "      <td>28909985</td>\n",
       "    </tr>\n",
       "    <tr>\n",
       "      <th>3</th>\n",
       "      <td>1963</td>\n",
       "      <td>29597047</td>\n",
       "    </tr>\n",
       "    <tr>\n",
       "      <th>4</th>\n",
       "      <td>1964</td>\n",
       "      <td>30292969</td>\n",
       "    </tr>\n",
       "  </tbody>\n",
       "</table>\n",
       "</div>"
      ],
      "text/plain": [
       "   year  population\n",
       "0  1960    27553280\n",
       "1  1961    28229291\n",
       "2  1962    28909985\n",
       "3  1963    29597047\n",
       "4  1964    30292969"
      ]
     },
     "execution_count": 7,
     "metadata": {},
     "output_type": "execute_result"
    }
   ],
   "source": [
    "x.join(y).head()\n",
    "# pd.DataFrame(populations, index=years)"
   ]
  },
  {
   "cell_type": "code",
   "execution_count": 8,
   "id": "941df3f7-e14e-4473-94fd-758e63d9b87b",
   "metadata": {},
   "outputs": [
    {
     "data": {
      "text/html": [
       "<div>\n",
       "<style scoped>\n",
       "    .dataframe tbody tr th:only-of-type {\n",
       "        vertical-align: middle;\n",
       "    }\n",
       "\n",
       "    .dataframe tbody tr th {\n",
       "        vertical-align: top;\n",
       "    }\n",
       "\n",
       "    .dataframe thead th {\n",
       "        text-align: right;\n",
       "    }\n",
       "</style>\n",
       "<table border=\"1\" class=\"dataframe\">\n",
       "  <thead>\n",
       "    <tr style=\"text-align: right;\">\n",
       "      <th></th>\n",
       "      <th>year</th>\n",
       "    </tr>\n",
       "  </thead>\n",
       "  <tbody>\n",
       "    <tr>\n",
       "      <th>0</th>\n",
       "      <td>1960</td>\n",
       "    </tr>\n",
       "    <tr>\n",
       "      <th>1</th>\n",
       "      <td>1961</td>\n",
       "    </tr>\n",
       "    <tr>\n",
       "      <th>2</th>\n",
       "      <td>1962</td>\n",
       "    </tr>\n",
       "    <tr>\n",
       "      <th>3</th>\n",
       "      <td>1963</td>\n",
       "    </tr>\n",
       "    <tr>\n",
       "      <th>4</th>\n",
       "      <td>1964</td>\n",
       "    </tr>\n",
       "  </tbody>\n",
       "</table>\n",
       "</div>"
      ],
      "text/plain": [
       "   year\n",
       "0  1960\n",
       "1  1961\n",
       "2  1962\n",
       "3  1963\n",
       "4  1964"
      ]
     },
     "execution_count": 8,
     "metadata": {},
     "output_type": "execute_result"
    }
   ],
   "source": [
    "x.head()"
   ]
  },
  {
   "cell_type": "code",
   "execution_count": 9,
   "id": "d7541c18-9898-47bb-9558-7719dec2e146",
   "metadata": {},
   "outputs": [
    {
     "data": {
      "text/html": [
       "<div>\n",
       "<style scoped>\n",
       "    .dataframe tbody tr th:only-of-type {\n",
       "        vertical-align: middle;\n",
       "    }\n",
       "\n",
       "    .dataframe tbody tr th {\n",
       "        vertical-align: top;\n",
       "    }\n",
       "\n",
       "    .dataframe thead th {\n",
       "        text-align: right;\n",
       "    }\n",
       "</style>\n",
       "<table border=\"1\" class=\"dataframe\">\n",
       "  <thead>\n",
       "    <tr style=\"text-align: right;\">\n",
       "      <th></th>\n",
       "      <th>population</th>\n",
       "    </tr>\n",
       "  </thead>\n",
       "  <tbody>\n",
       "    <tr>\n",
       "      <th>0</th>\n",
       "      <td>27553280</td>\n",
       "    </tr>\n",
       "    <tr>\n",
       "      <th>1</th>\n",
       "      <td>28229291</td>\n",
       "    </tr>\n",
       "    <tr>\n",
       "      <th>2</th>\n",
       "      <td>28909985</td>\n",
       "    </tr>\n",
       "    <tr>\n",
       "      <th>3</th>\n",
       "      <td>29597047</td>\n",
       "    </tr>\n",
       "    <tr>\n",
       "      <th>4</th>\n",
       "      <td>30292969</td>\n",
       "    </tr>\n",
       "  </tbody>\n",
       "</table>\n",
       "</div>"
      ],
      "text/plain": [
       "   population\n",
       "0    27553280\n",
       "1    28229291\n",
       "2    28909985\n",
       "3    29597047\n",
       "4    30292969"
      ]
     },
     "execution_count": 9,
     "metadata": {},
     "output_type": "execute_result"
    }
   ],
   "source": [
    "y.head()"
   ]
  },
  {
   "cell_type": "code",
   "execution_count": 10,
   "id": "d26fbebc-ea8f-424a-b80c-30d74a621f50",
   "metadata": {},
   "outputs": [],
   "source": [
    "reg = LinearRegression()"
   ]
  },
  {
   "cell_type": "code",
   "execution_count": 11,
   "id": "06e40291-449b-413a-b989-bf6559907251",
   "metadata": {},
   "outputs": [],
   "source": [
    "model = reg.fit(x, y)"
   ]
  },
  {
   "cell_type": "code",
   "execution_count": 12,
   "id": "1ee8d041-fc95-41fb-90f4-6b7f52bedf13",
   "metadata": {},
   "outputs": [
    {
     "data": {
      "text/plain": [
       "array([-1.83151654e+09])"
      ]
     },
     "execution_count": 12,
     "metadata": {},
     "output_type": "execute_result"
    }
   ],
   "source": [
    "model.intercept_\n",
    "# output: array([-1.83151654e+09])"
   ]
  },
  {
   "cell_type": "code",
   "execution_count": 13,
   "id": "39c21bcd-a5a4-4768-a525-2d36f1bb4531",
   "metadata": {},
   "outputs": [
    {
     "data": {
      "text/plain": [
       "array([[947514.5946733]])"
      ]
     },
     "execution_count": 13,
     "metadata": {},
     "output_type": "execute_result"
    }
   ],
   "source": [
    "model.coef_\n",
    "# output: array([[947514.5946733]])"
   ]
  },
  {
   "cell_type": "markdown",
   "id": "8bfa3f68-19ee-4654-b353-4a0c2dde7c9b",
   "metadata": {},
   "source": [
    "$ Y = -1.83*10^9 + 947,514.59*X $"
   ]
  },
  {
   "cell_type": "code",
   "execution_count": 14,
   "id": "739aa244-8229-4c64-a60d-b69a2b9707ee",
   "metadata": {},
   "outputs": [
    {
     "data": {
      "text/plain": [
       "0.9980679275814964"
      ]
     },
     "execution_count": 14,
     "metadata": {},
     "output_type": "execute_result"
    }
   ],
   "source": [
    "model.score(x,y) #accuracy of the model\n",
    "# output: 0.9980679275814964"
   ]
  },
  {
   "cell_type": "markdown",
   "id": "70b3c7cf-df53-4dda-ab10-3bcab2bf1953",
   "metadata": {},
   "source": [
    "# Prediction"
   ]
  },
  {
   "cell_type": "code",
   "execution_count": 15,
   "id": "ad5089ad-4074-48a5-99b7-ac46ffe2ec41",
   "metadata": {},
   "outputs": [],
   "source": [
    "result = model.predict([[2030]])[0][0]"
   ]
  },
  {
   "cell_type": "code",
   "execution_count": 16,
   "id": "8c208334-9a2f-410a-a5a5-7a4ce53b709c",
   "metadata": {},
   "outputs": [
    {
     "name": "stdout",
     "output_type": "stream",
     "text": [
      "Turkey population in 2030 will be 91,938,084\n"
     ]
    }
   ],
   "source": [
    "print(f\"Turkey population in 2030 will be {int(result):,}\")\n",
    "# output: 'Turkey population in 2030 will be 91,938,084'"
   ]
  }
 ],
 "metadata": {
  "kernelspec": {
   "display_name": "Python 3",
   "language": "python",
   "name": "python3"
  },
  "language_info": {
   "codemirror_mode": {
    "name": "ipython",
    "version": 3
   },
   "file_extension": ".py",
   "mimetype": "text/x-python",
   "name": "python",
   "nbconvert_exporter": "python",
   "pygments_lexer": "ipython3",
   "version": "3.8.8"
  }
 },
 "nbformat": 4,
 "nbformat_minor": 5
}
